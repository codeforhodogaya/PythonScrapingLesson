{
  "nbformat": 4,
  "nbformat_minor": 0,
  "metadata": {
    "colab": {
      "name": "seleniumでpythonスクレイピング1章目（環境構築）.ipynb",
      "provenance": []
    },
    "kernelspec": {
      "name": "python3",
      "display_name": "Python 3"
    },
    "language_info": {
      "name": "python"
    }
  },
  "cells": [
    {
      "cell_type": "code",
      "metadata": {
        "colab": {
          "base_uri": "https://localhost:8080/"
        },
        "id": "6TWa-fVl90of",
        "outputId": "d9792699-22b5-4d5f-e21a-477a90b94b52"
      },
      "source": [
        "!apt-get update\n",
        "!apt install chromium-chromedriver\n",
        "!cp /usr/lib/chromium-browser/chromedriver /usr/bin"
      ],
      "execution_count": 11,
      "outputs": [
        {
          "output_type": "stream",
          "text": [
            "\r0% [Working]\r            \rIgn:1 https://developer.download.nvidia.com/compute/cuda/repos/ubuntu1804/x86_64  InRelease\n",
            "\r0% [Connecting to archive.ubuntu.com] [Connecting to security.ubuntu.com] [Conn\r                                                                               \rIgn:2 https://developer.download.nvidia.com/compute/machine-learning/repos/ubuntu1804/x86_64  InRelease\n",
            "\r0% [Connecting to archive.ubuntu.com] [Connecting to security.ubuntu.com] [Conn\r                                                                               \rHit:3 https://developer.download.nvidia.com/compute/cuda/repos/ubuntu1804/x86_64  Release\n",
            "\r0% [Connecting to archive.ubuntu.com] [Connecting to security.ubuntu.com] [Conn\r0% [Release.gpg gpgv 697 B] [Connecting to archive.ubuntu.com] [Connecting to s\r                                                                               \rHit:4 https://developer.download.nvidia.com/compute/machine-learning/repos/ubuntu1804/x86_64  Release\n",
            "Hit:5 https://cloud.r-project.org/bin/linux/ubuntu bionic-cran40/ InRelease\n",
            "Hit:7 http://security.ubuntu.com/ubuntu bionic-security InRelease\n",
            "Hit:8 http://archive.ubuntu.com/ubuntu bionic InRelease\n",
            "Hit:9 http://ppa.launchpad.net/c2d4u.team/c2d4u4.0+/ubuntu bionic InRelease\n",
            "Hit:11 http://archive.ubuntu.com/ubuntu bionic-updates InRelease\n",
            "Hit:12 http://archive.ubuntu.com/ubuntu bionic-backports InRelease\n",
            "Hit:13 http://ppa.launchpad.net/cran/libgit2/ubuntu bionic InRelease\n",
            "Hit:14 http://ppa.launchpad.net/deadsnakes/ppa/ubuntu bionic InRelease\n",
            "Hit:15 http://ppa.launchpad.net/graphics-drivers/ppa/ubuntu bionic InRelease\n",
            "Reading package lists... Done\n",
            "Reading package lists... Done\n",
            "Building dependency tree       \n",
            "Reading state information... Done\n",
            "The following additional packages will be installed:\n",
            "  chromium-browser chromium-browser-l10n chromium-codecs-ffmpeg-extra\n",
            "Suggested packages:\n",
            "  webaccounts-chromium-extension unity-chromium-extension\n",
            "The following NEW packages will be installed:\n",
            "  chromium-browser chromium-browser-l10n chromium-chromedriver\n",
            "  chromium-codecs-ffmpeg-extra\n",
            "0 upgraded, 4 newly installed, 0 to remove and 53 not upgraded.\n",
            "Need to get 83.2 MB of archives.\n",
            "After this operation, 282 MB of additional disk space will be used.\n",
            "Get:1 http://archive.ubuntu.com/ubuntu bionic-updates/universe amd64 chromium-codecs-ffmpeg-extra amd64 89.0.4389.82-0ubuntu0.18.04.1 [1,127 kB]\n",
            "Get:2 http://archive.ubuntu.com/ubuntu bionic-updates/universe amd64 chromium-browser amd64 89.0.4389.82-0ubuntu0.18.04.1 [73.6 MB]\n",
            "Get:3 http://archive.ubuntu.com/ubuntu bionic-updates/universe amd64 chromium-browser-l10n all 89.0.4389.82-0ubuntu0.18.04.1 [3,800 kB]\n",
            "Get:4 http://archive.ubuntu.com/ubuntu bionic-updates/universe amd64 chromium-chromedriver amd64 89.0.4389.82-0ubuntu0.18.04.1 [4,697 kB]\n",
            "Fetched 83.2 MB in 5s (15.5 MB/s)\n",
            "Selecting previously unselected package chromium-codecs-ffmpeg-extra.\n",
            "(Reading database ... 160980 files and directories currently installed.)\n",
            "Preparing to unpack .../chromium-codecs-ffmpeg-extra_89.0.4389.82-0ubuntu0.18.04.1_amd64.deb ...\n",
            "Unpacking chromium-codecs-ffmpeg-extra (89.0.4389.82-0ubuntu0.18.04.1) ...\n",
            "Selecting previously unselected package chromium-browser.\n",
            "Preparing to unpack .../chromium-browser_89.0.4389.82-0ubuntu0.18.04.1_amd64.deb ...\n",
            "Unpacking chromium-browser (89.0.4389.82-0ubuntu0.18.04.1) ...\n",
            "Selecting previously unselected package chromium-browser-l10n.\n",
            "Preparing to unpack .../chromium-browser-l10n_89.0.4389.82-0ubuntu0.18.04.1_all.deb ...\n",
            "Unpacking chromium-browser-l10n (89.0.4389.82-0ubuntu0.18.04.1) ...\n",
            "Selecting previously unselected package chromium-chromedriver.\n",
            "Preparing to unpack .../chromium-chromedriver_89.0.4389.82-0ubuntu0.18.04.1_amd64.deb ...\n",
            "Unpacking chromium-chromedriver (89.0.4389.82-0ubuntu0.18.04.1) ...\n",
            "Setting up chromium-codecs-ffmpeg-extra (89.0.4389.82-0ubuntu0.18.04.1) ...\n",
            "Setting up chromium-browser (89.0.4389.82-0ubuntu0.18.04.1) ...\n",
            "update-alternatives: using /usr/bin/chromium-browser to provide /usr/bin/x-www-browser (x-www-browser) in auto mode\n",
            "update-alternatives: using /usr/bin/chromium-browser to provide /usr/bin/gnome-www-browser (gnome-www-browser) in auto mode\n",
            "Setting up chromium-chromedriver (89.0.4389.82-0ubuntu0.18.04.1) ...\n",
            "Setting up chromium-browser-l10n (89.0.4389.82-0ubuntu0.18.04.1) ...\n",
            "Processing triggers for man-db (2.8.3-2ubuntu0.1) ...\n",
            "Processing triggers for hicolor-icon-theme (0.17-2) ...\n",
            "Processing triggers for mime-support (3.60ubuntu1) ...\n",
            "Processing triggers for libc-bin (2.27-3ubuntu1.2) ...\n",
            "/sbin/ldconfig.real: /usr/local/lib/python3.7/dist-packages/ideep4py/lib/libmkldnn.so.0 is not a symbolic link\n",
            "\n",
            "cp: '/usr/lib/chromium-browser/chromedriver' and '/usr/bin/chromedriver' are the same file\n"
          ],
          "name": "stdout"
        }
      ]
    },
    {
      "cell_type": "code",
      "metadata": {
        "colab": {
          "base_uri": "https://localhost:8080/"
        },
        "id": "UxsW0Vrr3eV_",
        "outputId": "fa283e63-26fc-42d4-810b-bc976b03d8b5"
      },
      "source": [
        "!pip install selenium"
      ],
      "execution_count": 6,
      "outputs": [
        {
          "output_type": "stream",
          "text": [
            "Collecting selenium\n",
            "\u001b[?25l  Downloading https://files.pythonhosted.org/packages/80/d6/4294f0b4bce4de0abf13e17190289f9d0613b0a44e5dd6a7f5ca98459853/selenium-3.141.0-py2.py3-none-any.whl (904kB)\n",
            "\r\u001b[K     |▍                               | 10kB 17.5MB/s eta 0:00:01\r\u001b[K     |▊                               | 20kB 23.0MB/s eta 0:00:01\r\u001b[K     |█                               | 30kB 11.6MB/s eta 0:00:01\r\u001b[K     |█▌                              | 40kB 9.2MB/s eta 0:00:01\r\u001b[K     |█▉                              | 51kB 7.1MB/s eta 0:00:01\r\u001b[K     |██▏                             | 61kB 7.3MB/s eta 0:00:01\r\u001b[K     |██▌                             | 71kB 7.9MB/s eta 0:00:01\r\u001b[K     |███                             | 81kB 8.3MB/s eta 0:00:01\r\u001b[K     |███▎                            | 92kB 8.1MB/s eta 0:00:01\r\u001b[K     |███▋                            | 102kB 8.2MB/s eta 0:00:01\r\u001b[K     |████                            | 112kB 8.2MB/s eta 0:00:01\r\u001b[K     |████▍                           | 122kB 8.2MB/s eta 0:00:01\r\u001b[K     |████▊                           | 133kB 8.2MB/s eta 0:00:01\r\u001b[K     |█████                           | 143kB 8.2MB/s eta 0:00:01\r\u001b[K     |█████▍                          | 153kB 8.2MB/s eta 0:00:01\r\u001b[K     |█████▉                          | 163kB 8.2MB/s eta 0:00:01\r\u001b[K     |██████▏                         | 174kB 8.2MB/s eta 0:00:01\r\u001b[K     |██████▌                         | 184kB 8.2MB/s eta 0:00:01\r\u001b[K     |██████▉                         | 194kB 8.2MB/s eta 0:00:01\r\u001b[K     |███████▎                        | 204kB 8.2MB/s eta 0:00:01\r\u001b[K     |███████▋                        | 215kB 8.2MB/s eta 0:00:01\r\u001b[K     |████████                        | 225kB 8.2MB/s eta 0:00:01\r\u001b[K     |████████▎                       | 235kB 8.2MB/s eta 0:00:01\r\u001b[K     |████████▊                       | 245kB 8.2MB/s eta 0:00:01\r\u001b[K     |█████████                       | 256kB 8.2MB/s eta 0:00:01\r\u001b[K     |█████████▍                      | 266kB 8.2MB/s eta 0:00:01\r\u001b[K     |█████████▉                      | 276kB 8.2MB/s eta 0:00:01\r\u001b[K     |██████████▏                     | 286kB 8.2MB/s eta 0:00:01\r\u001b[K     |██████████▌                     | 296kB 8.2MB/s eta 0:00:01\r\u001b[K     |██████████▉                     | 307kB 8.2MB/s eta 0:00:01\r\u001b[K     |███████████▎                    | 317kB 8.2MB/s eta 0:00:01\r\u001b[K     |███████████▋                    | 327kB 8.2MB/s eta 0:00:01\r\u001b[K     |████████████                    | 337kB 8.2MB/s eta 0:00:01\r\u001b[K     |████████████▎                   | 348kB 8.2MB/s eta 0:00:01\r\u001b[K     |████████████▊                   | 358kB 8.2MB/s eta 0:00:01\r\u001b[K     |█████████████                   | 368kB 8.2MB/s eta 0:00:01\r\u001b[K     |█████████████▍                  | 378kB 8.2MB/s eta 0:00:01\r\u001b[K     |█████████████▊                  | 389kB 8.2MB/s eta 0:00:01\r\u001b[K     |██████████████▏                 | 399kB 8.2MB/s eta 0:00:01\r\u001b[K     |██████████████▌                 | 409kB 8.2MB/s eta 0:00:01\r\u001b[K     |██████████████▉                 | 419kB 8.2MB/s eta 0:00:01\r\u001b[K     |███████████████▏                | 430kB 8.2MB/s eta 0:00:01\r\u001b[K     |███████████████▋                | 440kB 8.2MB/s eta 0:00:01\r\u001b[K     |████████████████                | 450kB 8.2MB/s eta 0:00:01\r\u001b[K     |████████████████▎               | 460kB 8.2MB/s eta 0:00:01\r\u001b[K     |████████████████▋               | 471kB 8.2MB/s eta 0:00:01\r\u001b[K     |█████████████████               | 481kB 8.2MB/s eta 0:00:01\r\u001b[K     |█████████████████▍              | 491kB 8.2MB/s eta 0:00:01\r\u001b[K     |█████████████████▊              | 501kB 8.2MB/s eta 0:00:01\r\u001b[K     |██████████████████▏             | 512kB 8.2MB/s eta 0:00:01\r\u001b[K     |██████████████████▌             | 522kB 8.2MB/s eta 0:00:01\r\u001b[K     |██████████████████▉             | 532kB 8.2MB/s eta 0:00:01\r\u001b[K     |███████████████████▏            | 542kB 8.2MB/s eta 0:00:01\r\u001b[K     |███████████████████▋            | 552kB 8.2MB/s eta 0:00:01\r\u001b[K     |████████████████████            | 563kB 8.2MB/s eta 0:00:01\r\u001b[K     |████████████████████▎           | 573kB 8.2MB/s eta 0:00:01\r\u001b[K     |████████████████████▋           | 583kB 8.2MB/s eta 0:00:01\r\u001b[K     |█████████████████████           | 593kB 8.2MB/s eta 0:00:01\r\u001b[K     |█████████████████████▍          | 604kB 8.2MB/s eta 0:00:01\r\u001b[K     |█████████████████████▊          | 614kB 8.2MB/s eta 0:00:01\r\u001b[K     |██████████████████████          | 624kB 8.2MB/s eta 0:00:01\r\u001b[K     |██████████████████████▌         | 634kB 8.2MB/s eta 0:00:01\r\u001b[K     |██████████████████████▉         | 645kB 8.2MB/s eta 0:00:01\r\u001b[K     |███████████████████████▏        | 655kB 8.2MB/s eta 0:00:01\r\u001b[K     |███████████████████████▌        | 665kB 8.2MB/s eta 0:00:01\r\u001b[K     |████████████████████████        | 675kB 8.2MB/s eta 0:00:01\r\u001b[K     |████████████████████████▎       | 686kB 8.2MB/s eta 0:00:01\r\u001b[K     |████████████████████████▋       | 696kB 8.2MB/s eta 0:00:01\r\u001b[K     |█████████████████████████       | 706kB 8.2MB/s eta 0:00:01\r\u001b[K     |█████████████████████████▍      | 716kB 8.2MB/s eta 0:00:01\r\u001b[K     |█████████████████████████▊      | 727kB 8.2MB/s eta 0:00:01\r\u001b[K     |██████████████████████████      | 737kB 8.2MB/s eta 0:00:01\r\u001b[K     |██████████████████████████▍     | 747kB 8.2MB/s eta 0:00:01\r\u001b[K     |██████████████████████████▉     | 757kB 8.2MB/s eta 0:00:01\r\u001b[K     |███████████████████████████▏    | 768kB 8.2MB/s eta 0:00:01\r\u001b[K     |███████████████████████████▌    | 778kB 8.2MB/s eta 0:00:01\r\u001b[K     |████████████████████████████    | 788kB 8.2MB/s eta 0:00:01\r\u001b[K     |████████████████████████████▎   | 798kB 8.2MB/s eta 0:00:01\r\u001b[K     |████████████████████████████▋   | 808kB 8.2MB/s eta 0:00:01\r\u001b[K     |█████████████████████████████   | 819kB 8.2MB/s eta 0:00:01\r\u001b[K     |█████████████████████████████▍  | 829kB 8.2MB/s eta 0:00:01\r\u001b[K     |█████████████████████████████▊  | 839kB 8.2MB/s eta 0:00:01\r\u001b[K     |██████████████████████████████  | 849kB 8.2MB/s eta 0:00:01\r\u001b[K     |██████████████████████████████▍ | 860kB 8.2MB/s eta 0:00:01\r\u001b[K     |██████████████████████████████▉ | 870kB 8.2MB/s eta 0:00:01\r\u001b[K     |███████████████████████████████▏| 880kB 8.2MB/s eta 0:00:01\r\u001b[K     |███████████████████████████████▌| 890kB 8.2MB/s eta 0:00:01\r\u001b[K     |███████████████████████████████▉| 901kB 8.2MB/s eta 0:00:01\r\u001b[K     |████████████████████████████████| 911kB 8.2MB/s \n",
            "\u001b[?25hRequirement already satisfied: urllib3 in /usr/local/lib/python3.7/dist-packages (from selenium) (1.24.3)\n",
            "Installing collected packages: selenium\n",
            "Successfully installed selenium-3.141.0\n"
          ],
          "name": "stdout"
        }
      ]
    },
    {
      "cell_type": "code",
      "metadata": {
        "id": "XB9dpkno3qAf"
      },
      "source": [
        "from selenium import webdriver"
      ],
      "execution_count": 10,
      "outputs": []
    },
    {
      "cell_type": "code",
      "metadata": {
        "id": "Jj6XqAK94mmW"
      },
      "source": [
        "options = webdriver.ChromeOptions()\n",
        "options.add_argument('--headless')\n",
        "options.add_argument('--no-sandbox')\n",
        "options.add_argument('--disable-dev-shm-usage')\n",
        "driver = webdriver.Chrome('chromedriver',options=options)\n",
        "\n"
      ],
      "execution_count": 22,
      "outputs": []
    },
    {
      "cell_type": "code",
      "metadata": {
        "id": "KYDOcKbi_SHB"
      },
      "source": [
        "driver.get(\"https://www.instagram.com\") "
      ],
      "execution_count": null,
      "outputs": []
    }
  ]
}